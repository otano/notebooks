{
  "nbformat": 4,
  "nbformat_minor": 0,
  "metadata": {
    "colab": {
      "name": "python jmymet.ipynb",
      "provenance": [],
      "toc_visible": true
    },
    "kernelspec": {
      "name": "python3",
      "display_name": "Python 3"
    }
  },
  "cells": [
    {
      "cell_type": "markdown",
      "metadata": {
        "id": "cVd7-1raAy93",
        "colab_type": "text"
      },
      "source": [
        "![Python alternatif…](https://upload.wikimedia.org/wikipedia/commons/thumb/f/f8/Python_logo_and_wordmark.svg/972px-Python_logo_and_wordmark.svg.png)"
      ]
    },
    {
      "cell_type": "markdown",
      "metadata": {
        "id": "Fzd5brT3LPMP",
        "colab_type": "text"
      },
      "source": [
        ""
      ]
    },
    {
      "cell_type": "markdown",
      "metadata": {
        "id": "2jW8tmf-ProX",
        "colab_type": "text"
      },
      "source": [
        "# On se lance direct !"
      ]
    },
    {
      "cell_type": "markdown",
      "metadata": {
        "id": "oBaB84n6P1RY",
        "colab_type": "text"
      },
      "source": [
        "Quelques petits exemples d'abord:\n",
        "\n",
        "Sac à belettes "
      ]
    },
    {
      "cell_type": "code",
      "metadata": {
        "id": "62x-E_jRQQBR",
        "colab_type": "code",
        "outputId": "b6810a1f-e46a-427a-92dc-208d367dda51",
        "colab": {
          "base_uri": "https://localhost:8080/",
          "height": 36
        }
      },
      "source": [
        "# je vais créer une variable qui correspond au nombre de belettes\n",
        "# je rappelle que le égale veut dire \"affecte\", \"j'affecte 11 à la variable belette\"\n",
        "belettes = 232\n",
        "\n",
        "# puis une autre pour les sacs\n",
        "sac = 57\n",
        "\n",
        "#je peux donc calculer, combien de belette je dois mettre par sac \n",
        "beletteparsac=belettes/sac\n",
        "print(beletteparsac)\n"
      ],
      "execution_count": 0,
      "outputs": [
        {
          "output_type": "stream",
          "text": [
            "4.0701754385964914\n"
          ],
          "name": "stdout"
        }
      ]
    },
    {
      "cell_type": "code",
      "metadata": {
        "id": "s7HuvigXXbKP",
        "colab_type": "code",
        "outputId": "745b8b98-0d80-4e4e-8359-be6a0fcb928b",
        "colab": {
          "base_uri": "https://localhost:8080/",
          "height": 36
        }
      },
      "source": [
        "# si on veux garder les belettes entières, j'utilise la division entière //\n",
        "beletteparsac = belettes // sac\n",
        "print(beletteparsac)\n"
      ],
      "execution_count": 0,
      "outputs": [
        {
          "output_type": "stream",
          "text": [
            "4\n"
          ],
          "name": "stdout"
        }
      ]
    },
    {
      "cell_type": "code",
      "metadata": {
        "id": "gd2mJQBsXeYY",
        "colab_type": "code",
        "outputId": "bec61f59-2763-4107-b31c-8a73ecda4ace",
        "colab": {
          "base_uri": "https://localhost:8080/",
          "height": 36
        }
      },
      "source": [
        "# combien il me reste de belette  on utilise %  qui se lit \"modulo\"  qui représente le reste de la division\n",
        "reste=belettes%sac\n",
        "print(reste)"
      ],
      "execution_count": 0,
      "outputs": [
        {
          "output_type": "stream",
          "text": [
            "4\n"
          ],
          "name": "stdout"
        }
      ]
    },
    {
      "cell_type": "code",
      "metadata": {
        "id": "eIPiXOXSY8dg",
        "colab_type": "code",
        "outputId": "e8f237b1-2c85-4ce4-ba5c-9541cc2ec50a",
        "colab": {
          "base_uri": "https://localhost:8080/",
          "height": 73
        }
      },
      "source": [
        "#on peut faire plus jolie\n",
        "\n",
        "print (\"Avec \", belettes ,\"belettes et \" ,sac,\"sac\")\n",
        "print (\"on a \", beletteparsac, \"belettes par sac \\n et il nous reste donc \",reste ,\"belettes à replacer\" )"
      ],
      "execution_count": 0,
      "outputs": [
        {
          "output_type": "stream",
          "text": [
            "Avec  232 belettes et  57 sac\n",
            "on a  4 belettes par sac \n",
            " et il nous reste donc  4 belettes à replacer\n"
          ],
          "name": "stdout"
        }
      ]
    },
    {
      "cell_type": "markdown",
      "metadata": {
        "id": "wcjLb5nY_MHp",
        "colab_type": "text"
      },
      "source": [
        "# Les types de variables"
      ]
    },
    {
      "cell_type": "markdown",
      "metadata": {
        "id": "jSRZpiSL_gLB",
        "colab_type": "text"
      },
      "source": [
        "Dans mon programme plusieurs choses vont intervenir.\n",
        "Des algoritmes qui sont sensés régler la tache,ce sont une suite d'action à faire, une sequence.\n",
        "\n",
        "il y a aussi des entrés et des sorties. Les entrées sont ce qu'on donne à l'algoritme, ce qui est néscessaire à son traitement et les sorties sont le résultat du traitement.\n",
        "\n",
        "il y a aussi toute les informations intermédiaire que se créer l'algorithme pour arriver à ses fins.\n",
        "\n",
        "Toutes ces informations se retrouve dans la mémoire de l'ordinateur\n",
        "qu'on va imaginer comme des boites de taille plus ou moins grande  selon le type de donnée qu'on a y placer.\n",
        "ci-dessous les types des données\n",
        "\n",
        " * int (entier)\n",
        " * float (Réel)\n",
        " * bool (Booléen)\n",
        " * NoneType (None)\n",
        " * complex  (Complexe)\n",
        " \n",
        "\n"
      ]
    },
    {
      "cell_type": "markdown",
      "metadata": {
        "id": "lCG9vFJSlKi4",
        "colab_type": "text"
      },
      "source": [
        "# Les nombres | les opérateurs\n"
      ]
    },
    {
      "cell_type": "code",
      "metadata": {
        "id": "Ty_VNLxtXWKI",
        "colab_type": "code",
        "colab": {}
      },
      "source": [
        ""
      ],
      "execution_count": 0,
      "outputs": []
    },
    {
      "cell_type": "markdown",
      "metadata": {
        "id": "nfjtB3hX5U5g",
        "colab_type": "text"
      },
      "source": [
        "Python peut faire des calculs comme une calculatrice\n",
        "\n",
        "j'ai mis aussi des commentaires précedés du signe # ainsi ils sont invisibles pour l'ordinateur."
      ]
    },
    {
      "cell_type": "markdown",
      "metadata": {
        "id": "MqpwNbdMWtOT",
        "colab_type": "text"
      },
      "source": [
        "Ce que vous utiliserez ici est un notebook online ça veut dire que vous n'avez pas à installer python sur votre pc.\n",
        "\n",
        "C'est un système distant qui évalue chaque cellule les une après les autres.\n"
      ]
    },
    {
      "cell_type": "markdown",
      "metadata": {
        "id": "pbHD81O_-q-S",
        "colab_type": "text"
      },
      "source": [
        "### opération"
      ]
    },
    {
      "cell_type": "code",
      "metadata": {
        "id": "aR9dQgnmlnwn",
        "colab_type": "code",
        "outputId": "8e591154-d392-4421-e11c-e506a8c5924f",
        "colab": {
          "base_uri": "https://localhost:8080/",
          "height": 34
        }
      },
      "source": [
        "#addition\n",
        "2+2"
      ],
      "execution_count": 0,
      "outputs": [
        {
          "output_type": "execute_result",
          "data": {
            "text/plain": [
              "4"
            ]
          },
          "metadata": {
            "tags": []
          },
          "execution_count": 3
        }
      ]
    },
    {
      "cell_type": "code",
      "metadata": {
        "id": "mj20-N8g86iO",
        "colab_type": "code",
        "outputId": "88dd37db-bb1b-43ad-ebf5-bad78e9a0bdb",
        "colab": {
          "base_uri": "https://localhost:8080/",
          "height": 36
        }
      },
      "source": [
        "#soustraction\n",
        "5-3"
      ],
      "execution_count": 0,
      "outputs": [
        {
          "output_type": "execute_result",
          "data": {
            "text/plain": [
              "2"
            ]
          },
          "metadata": {
            "tags": []
          },
          "execution_count": 1
        }
      ]
    },
    {
      "cell_type": "code",
      "metadata": {
        "id": "cbRDC1P-2iHX",
        "colab_type": "code",
        "outputId": "86a43607-5bf6-4955-a460-884c7a966a28",
        "colab": {
          "base_uri": "https://localhost:8080/",
          "height": 34
        }
      },
      "source": [
        "# multiplication\n",
        "2*3"
      ],
      "execution_count": 0,
      "outputs": [
        {
          "output_type": "execute_result",
          "data": {
            "text/plain": [
              "6"
            ]
          },
          "metadata": {
            "tags": []
          },
          "execution_count": 5
        }
      ]
    },
    {
      "cell_type": "code",
      "metadata": {
        "id": "uxwCNBay-Xh9",
        "colab_type": "code",
        "outputId": "9d40113e-1447-43f1-d53a-72aab40edae9",
        "colab": {
          "base_uri": "https://localhost:8080/",
          "height": 36
        }
      },
      "source": [
        "#division réel on remarque que le resultat est un réel\n",
        "5/2"
      ],
      "execution_count": 0,
      "outputs": [
        {
          "output_type": "execute_result",
          "data": {
            "text/plain": [
              "2.5"
            ]
          },
          "metadata": {
            "tags": []
          },
          "execution_count": 4
        }
      ]
    },
    {
      "cell_type": "code",
      "metadata": {
        "id": "fDM6u-H1-pLX",
        "colab_type": "code",
        "outputId": "fe5e20d9-cbdc-4bac-d7be-52ce5041269d",
        "colab": {
          "base_uri": "https://localhost:8080/",
          "height": 36
        }
      },
      "source": [
        "#division entière on remarque que le resultat est un entier\n",
        "5//2"
      ],
      "execution_count": 0,
      "outputs": [
        {
          "output_type": "execute_result",
          "data": {
            "text/plain": [
              "2"
            ]
          },
          "metadata": {
            "tags": []
          },
          "execution_count": 3
        }
      ]
    },
    {
      "cell_type": "code",
      "metadata": {
        "id": "3nIBDxRhuCBe",
        "colab_type": "code",
        "outputId": "1249ee08-158e-40e0-a31c-829ce38d6673",
        "colab": {
          "base_uri": "https://localhost:8080/",
          "height": 36
        }
      },
      "source": [
        "# pour le reste il y a l'opérateur modulo noté %\n",
        "5%2"
      ],
      "execution_count": 0,
      "outputs": [
        {
          "output_type": "execute_result",
          "data": {
            "text/plain": [
              "1"
            ]
          },
          "metadata": {
            "tags": []
          },
          "execution_count": 2
        }
      ]
    },
    {
      "cell_type": "code",
      "metadata": {
        "id": "3EO6FrLj0QxT",
        "colab_type": "code",
        "outputId": "a61f0143-d520-4228-a21a-ba6d6940442c",
        "colab": {
          "base_uri": "https://localhost:8080/",
          "height": 36
        }
      },
      "source": [
        "# il y a aussi la fonction qui rend quotien et reste dans un tuple (on voit ce que c'est bientôt)\n",
        "divmod(5, 2)"
      ],
      "execution_count": 0,
      "outputs": [
        {
          "output_type": "execute_result",
          "data": {
            "text/plain": [
              "(2, 1)"
            ]
          },
          "metadata": {
            "tags": []
          },
          "execution_count": 4
        }
      ]
    },
    {
      "cell_type": "code",
      "metadata": {
        "id": "tDhB2cTF2oL-",
        "colab_type": "code",
        "outputId": "15038af6-7638-493f-8193-a96b29ca6120",
        "colab": {
          "base_uri": "https://localhost:8080/",
          "height": 36
        }
      },
      "source": [
        "# puissance\n",
        "6 ** 2\n",
        "# ou avec la fonction pow\n",
        "pow(6, 2)"
      ],
      "execution_count": 0,
      "outputs": [
        {
          "output_type": "execute_result",
          "data": {
            "text/plain": [
              "36"
            ]
          },
          "metadata": {
            "tags": []
          },
          "execution_count": 9
        }
      ]
    },
    {
      "cell_type": "markdown",
      "metadata": {
        "id": "5OxkUNd56-1q",
        "colab_type": "text"
      },
      "source": [
        "### opérateur de comparaison\n",
        " <   Strictement inférieur à\n",
        "\n",
        "\\> Strictement supérieur à\n",
        "\n",
        "<= Inférieur ou égal à\n",
        "\n",
        "\\>= Supérieur ou égal à\n",
        "\n",
        "== Égal à\n",
        "\n",
        "!= Différent de"
      ]
    },
    {
      "cell_type": "code",
      "metadata": {
        "id": "pXdZGQRG11jh",
        "colab_type": "code",
        "colab": {
          "base_uri": "https://localhost:8080/",
          "height": 36
        },
        "outputId": "a085cf58-f86e-4a60-d2c7-7864c00d2061"
      },
      "source": [
        "num = 21\n",
        "num > 45"
      ],
      "execution_count": 3,
      "outputs": [
        {
          "output_type": "execute_result",
          "data": {
            "text/plain": [
              "False"
            ]
          },
          "metadata": {
            "tags": []
          },
          "execution_count": 3
        }
      ]
    },
    {
      "cell_type": "code",
      "metadata": {
        "id": "hcefm8x46CWf",
        "colab_type": "code",
        "colab": {
          "base_uri": "https://localhost:8080/",
          "height": 54
        },
        "outputId": "b29a7c82-45b5-4400-a716-12f127f7ed51"
      },
      "source": [
        "# je sais qu'on a pas vu les if et cie mais bon vous pouvez quand même lire\n",
        "a = 10\n",
        "if (a % 2==0):\n",
        "  print('a est pair')\n",
        "  print('le reste de sa division par 2 est nul')\n",
        "else:\n",
        "  print('a est impair')"
      ],
      "execution_count": 1,
      "outputs": [
        {
          "output_type": "stream",
          "text": [
            "a est pair\n",
            "le reste de sa division par 2 est nul\n"
          ],
          "name": "stdout"
        }
      ]
    },
    {
      "cell_type": "markdown",
      "metadata": {
        "id": "_p6VXhbZR_Ee",
        "colab_type": "text"
      },
      "source": [
        ""
      ]
    },
    {
      "cell_type": "code",
      "metadata": {
        "id": "7iWp2VZ8N9Xt",
        "colab_type": "code",
        "outputId": "809ddd00-2b46-4bd5-8fc6-60d44d56b040",
        "colab": {
          "base_uri": "https://localhost:8080/",
          "height": 129
        }
      },
      "source": [
        "s = int(2010)\n",
        "print(type(s))\n",
        "\n",
        "s = 3.14; print(type(s))\n",
        "s = True; print(type(s))\n",
        "s = None; print(type(s))\n",
        "s = 1.0j; print(type(s))\n",
        "s = type(type(s)); print(type(s))"
      ],
      "execution_count": 0,
      "outputs": [
        {
          "output_type": "stream",
          "text": [
            "<class 'int'>\n",
            "<class 'float'>\n",
            "<class 'bool'>\n",
            "<class 'NoneType'>\n",
            "<class 'complex'>\n",
            "<class 'type'>\n"
          ],
          "name": "stdout"
        }
      ]
    },
    {
      "cell_type": "markdown",
      "metadata": {
        "id": "itBKMecQLVC7",
        "colab_type": "text"
      },
      "source": [
        "# Les chaines de charactères\n",
        "\n"
      ]
    },
    {
      "cell_type": "markdown",
      "metadata": {
        "id": "YQuiWJnBRV2M",
        "colab_type": "text"
      },
      "source": [
        "# les fonctions prédéfinies"
      ]
    },
    {
      "cell_type": "markdown",
      "metadata": {
        "id": "g1QraN4k-qIl",
        "colab_type": "text"
      },
      "source": [
        "Python possède de nombreux outils, des modules, des fonctions prêt à l'emploi."
      ]
    },
    {
      "cell_type": "markdown",
      "metadata": {
        "id": "GIZWM5mr_KyL",
        "colab_type": "text"
      },
      "source": [
        "## Tout d'abord des fonctions intégrées"
      ]
    },
    {
      "cell_type": "markdown",
      "metadata": {
        "id": "m6FoElPGE3uL",
        "colab_type": "text"
      },
      "source": [
        "### input()\n",
        "\n",
        "Permet d'interagir avec l'utilisateur\n",
        "Une chaine de charactère peut être entrée par l'utilisateur\n"
      ]
    },
    {
      "cell_type": "code",
      "metadata": {
        "id": "GFZe0edaFHJF",
        "colab_type": "code",
        "colab": {}
      },
      "source": [
        "username = input(\"comment t'appelles tu ?\")\n",
        "print(username)"
      ],
      "execution_count": 0,
      "outputs": []
    },
    {
      "cell_type": "markdown",
      "metadata": {
        "id": "CAyY12je-lCG",
        "colab_type": "text"
      },
      "source": [
        "### abs()\n",
        "la fonction renvoie la valeur absolue d'un nombre"
      ]
    },
    {
      "cell_type": "code",
      "metadata": {
        "id": "wvwx7woA_rZP",
        "colab_type": "code",
        "outputId": "1f4b2b4e-0bf3-4aa7-bc2c-df2d7088e1b2",
        "colab": {
          "base_uri": "https://localhost:8080/",
          "height": 34
        }
      },
      "source": [
        "print(abs(5))"
      ],
      "execution_count": 0,
      "outputs": [
        {
          "output_type": "stream",
          "text": [
            "5\n"
          ],
          "name": "stdout"
        }
      ]
    },
    {
      "cell_type": "code",
      "metadata": {
        "id": "PcoHGBoZ_1TG",
        "colab_type": "code",
        "outputId": "4763537f-8bf3-4aa0-b266-5eda60a6ceab",
        "colab": {
          "base_uri": "https://localhost:8080/",
          "height": 34
        }
      },
      "source": [
        "print(abs(-5))"
      ],
      "execution_count": 0,
      "outputs": [
        {
          "output_type": "stream",
          "text": [
            "5\n"
          ],
          "name": "stdout"
        }
      ]
    },
    {
      "cell_type": "markdown",
      "metadata": {
        "id": "NNLFVwu3AVpN",
        "colab_type": "text"
      },
      "source": [
        "### bool()\n",
        "la fonction bool voit tout à travers son filtre vrai ou faux.\n",
        "\n",
        "Pour les nombres si c'est 0 alors c'est faux et pour tous les autres c'est vrai\n"
      ]
    },
    {
      "cell_type": "code",
      "metadata": {
        "id": "hCsxvWDpBKLx",
        "colab_type": "code",
        "outputId": "f65de22b-9f4a-495c-b5d7-96c02cb3bfa2",
        "colab": {
          "base_uri": "https://localhost:8080/",
          "height": 34
        }
      },
      "source": [
        "print(bool(0))"
      ],
      "execution_count": 0,
      "outputs": [
        {
          "output_type": "stream",
          "text": [
            "False\n"
          ],
          "name": "stdout"
        }
      ]
    },
    {
      "cell_type": "code",
      "metadata": {
        "id": "kGJDuhuTBXzj",
        "colab_type": "code",
        "outputId": "f2d9e438-ab6d-432f-a9a9-3bd785f4368c",
        "colab": {
          "base_uri": "https://localhost:8080/",
          "height": 34
        }
      },
      "source": [
        "print(bool(34))"
      ],
      "execution_count": 0,
      "outputs": [
        {
          "output_type": "stream",
          "text": [
            "True\n"
          ],
          "name": "stdout"
        }
      ]
    },
    {
      "cell_type": "code",
      "metadata": {
        "id": "_5xjyDM0BnA3",
        "colab_type": "code",
        "outputId": "226f073e-faf6-4fbf-d3b7-641a1dc16ca1",
        "colab": {
          "base_uri": "https://localhost:8080/",
          "height": 34
        }
      },
      "source": [
        "print(bool(-270.23))"
      ],
      "execution_count": 0,
      "outputs": [
        {
          "output_type": "stream",
          "text": [
            "True\n"
          ],
          "name": "stdout"
        }
      ]
    },
    {
      "cell_type": "markdown",
      "metadata": {
        "id": "fMEeOhkDB_mP",
        "colab_type": "text"
      },
      "source": [
        "Pour les chaines de charactères\n",
        "si la chaine n'a aucune valeur ( cad elle vaut none) ou bien si la chaine est vide \"\" bool renvoie False\n",
        "\n",
        "sinon elle renvoi True"
      ]
    },
    {
      "cell_type": "code",
      "metadata": {
        "id": "sqTq-xbmCxNP",
        "colab_type": "code",
        "outputId": "e2d9c45e-97da-4216-b830-f0cfb73fb401",
        "colab": {
          "base_uri": "https://localhost:8080/",
          "height": 34
        }
      },
      "source": [
        "print(bool(\" \"))"
      ],
      "execution_count": 0,
      "outputs": [
        {
          "output_type": "stream",
          "text": [
            "True\n"
          ],
          "name": "stdout"
        }
      ]
    },
    {
      "cell_type": "code",
      "metadata": {
        "id": "96YCjeTJC_we",
        "colab_type": "code",
        "outputId": "fc988427-f73f-402e-b0b1-ab1f1e730bc0",
        "colab": {
          "base_uri": "https://localhost:8080/",
          "height": 34
        }
      },
      "source": [
        "print(bool(\"faux\"))"
      ],
      "execution_count": 0,
      "outputs": [
        {
          "output_type": "stream",
          "text": [
            "True\n"
          ],
          "name": "stdout"
        }
      ]
    },
    {
      "cell_type": "code",
      "metadata": {
        "id": "_gUgpZB1DVIu",
        "colab_type": "code",
        "colab": {
          "base_uri": "https://localhost:8080/",
          "height": 36
        },
        "outputId": "d2df9327-669f-4a6c-f426-e528259bcb98"
      },
      "source": [
        "print(bool(None))"
      ],
      "execution_count": 2,
      "outputs": [
        {
          "output_type": "stream",
          "text": [
            "False\n"
          ],
          "name": "stdout"
        }
      ]
    },
    {
      "cell_type": "markdown",
      "metadata": {
        "id": "6ZPiv66UEu7J",
        "colab_type": "text"
      },
      "source": [
        "### dir()\n",
        "indique les fonctions disponibles qui peuvent être utilisé avec le paramètre entre ses parenthèses"
      ]
    },
    {
      "cell_type": "code",
      "metadata": {
        "id": "TzdIcDHAHVuz",
        "colab_type": "code",
        "outputId": "5a72b2c0-a38f-4574-8f3b-a4686f9bf1d0",
        "colab": {
          "base_uri": "https://localhost:8080/",
          "height": 1000
        }
      },
      "source": [
        "# Comme belette est une chaine de caractère\n",
        "#je peux voir quelles sont toutes les fonctions que je peux appliquer à une chaine de caractère et donc a \"belette\"\n",
        "dir(\"belette\")"
      ],
      "execution_count": 0,
      "outputs": [
        {
          "output_type": "execute_result",
          "data": {
            "text/plain": [
              "['__add__',\n",
              " '__class__',\n",
              " '__contains__',\n",
              " '__delattr__',\n",
              " '__dir__',\n",
              " '__doc__',\n",
              " '__eq__',\n",
              " '__format__',\n",
              " '__ge__',\n",
              " '__getattribute__',\n",
              " '__getitem__',\n",
              " '__getnewargs__',\n",
              " '__gt__',\n",
              " '__hash__',\n",
              " '__init__',\n",
              " '__init_subclass__',\n",
              " '__iter__',\n",
              " '__le__',\n",
              " '__len__',\n",
              " '__lt__',\n",
              " '__mod__',\n",
              " '__mul__',\n",
              " '__ne__',\n",
              " '__new__',\n",
              " '__reduce__',\n",
              " '__reduce_ex__',\n",
              " '__repr__',\n",
              " '__rmod__',\n",
              " '__rmul__',\n",
              " '__setattr__',\n",
              " '__sizeof__',\n",
              " '__str__',\n",
              " '__subclasshook__',\n",
              " 'capitalize',\n",
              " 'casefold',\n",
              " 'center',\n",
              " 'count',\n",
              " 'encode',\n",
              " 'endswith',\n",
              " 'expandtabs',\n",
              " 'find',\n",
              " 'format',\n",
              " 'format_map',\n",
              " 'index',\n",
              " 'isalnum',\n",
              " 'isalpha',\n",
              " 'isdecimal',\n",
              " 'isdigit',\n",
              " 'isidentifier',\n",
              " 'islower',\n",
              " 'isnumeric',\n",
              " 'isprintable',\n",
              " 'isspace',\n",
              " 'istitle',\n",
              " 'isupper',\n",
              " 'join',\n",
              " 'ljust',\n",
              " 'lower',\n",
              " 'lstrip',\n",
              " 'maketrans',\n",
              " 'partition',\n",
              " 'replace',\n",
              " 'rfind',\n",
              " 'rindex',\n",
              " 'rjust',\n",
              " 'rpartition',\n",
              " 'rsplit',\n",
              " 'rstrip',\n",
              " 'split',\n",
              " 'splitlines',\n",
              " 'startswith',\n",
              " 'strip',\n",
              " 'swapcase',\n",
              " 'title',\n",
              " 'translate',\n",
              " 'upper',\n",
              " 'zfill']"
            ]
          },
          "metadata": {
            "tags": []
          },
          "execution_count": 12
        }
      ]
    },
    {
      "cell_type": "markdown",
      "metadata": {
        "id": "CfrFKUZQGCBm",
        "colab_type": "text"
      },
      "source": [
        "### eval()\n",
        "Evalue ce qu'il y a entre parenthèse, comme étant en langage python"
      ]
    },
    {
      "cell_type": "code",
      "metadata": {
        "id": "IpsXZgK6LFlt",
        "colab_type": "code",
        "outputId": "ea7f4d44-d2fc-47bb-b595-3c6140b6d6d9",
        "colab": {
          "base_uri": "https://localhost:8080/",
          "height": 36
        }
      },
      "source": [
        "eval(\"2+4\")\n"
      ],
      "execution_count": 0,
      "outputs": [
        {
          "output_type": "execute_result",
          "data": {
            "text/plain": [
              "6"
            ]
          },
          "metadata": {
            "tags": []
          },
          "execution_count": 21
        }
      ]
    },
    {
      "cell_type": "markdown",
      "metadata": {
        "id": "AUmHr6NGGUhT",
        "colab_type": "text"
      },
      "source": [
        "### exec()"
      ]
    },
    {
      "cell_type": "markdown",
      "metadata": {
        "id": "7bOT269qGnp-",
        "colab_type": "text"
      },
      "source": [
        "### int()"
      ]
    },
    {
      "cell_type": "markdown",
      "metadata": {
        "id": "OkooXQrpGrr0",
        "colab_type": "text"
      },
      "source": [
        "### float()"
      ]
    },
    {
      "cell_type": "markdown",
      "metadata": {
        "id": "m-d1ROh9Gw1n",
        "colab_type": "text"
      },
      "source": [
        "### len()"
      ]
    },
    {
      "cell_type": "markdown",
      "metadata": {
        "id": "_9l2ziovG1Kx",
        "colab_type": "text"
      },
      "source": [
        "### max() et min()"
      ]
    },
    {
      "cell_type": "markdown",
      "metadata": {
        "id": "2vj8WCGbIUQR",
        "colab_type": "text"
      },
      "source": [
        "### range()"
      ]
    },
    {
      "cell_type": "markdown",
      "metadata": {
        "id": "K1AKLkW9IYiH",
        "colab_type": "text"
      },
      "source": [
        "### sum()"
      ]
    },
    {
      "cell_type": "markdown",
      "metadata": {
        "id": "eAn_p9cq6-Bx",
        "colab_type": "text"
      },
      "source": [
        "# Flux d'instruction\n",
        "les instructions du programme s'executent dans l'ordre ou elles ont été écrite dans le programme."
      ]
    },
    {
      "cell_type": "markdown",
      "metadata": {
        "id": "XxnphQ9kIcNB",
        "colab_type": "text"
      },
      "source": [
        "fourche décisionnel\n",
        "\n"
      ]
    },
    {
      "cell_type": "markdown",
      "metadata": {
        "id": "Cm2OFFfAMvpm",
        "colab_type": "text"
      },
      "source": [
        "# TURTLE\n",
        "\n",
        "il est possible de piloter un sytème graphique. On l'appelle tortue en référence au programme Turtle du language de programmation logo qui dans les années 70 aidait à comprendre l'algoritmie de façon ludique et visuelle.\n",
        "\n",
        "![logo| Tutle ](https://upload.wikimedia.org/wikipedia/commons/8/81/LogoRecursiveSpiral.jpg)\n",
        "\n"
      ]
    },
    {
      "cell_type": "markdown",
      "metadata": {
        "id": "YKUyR-ZSEtZO",
        "colab_type": "text"
      },
      "source": [
        ""
      ]
    },
    {
      "cell_type": "code",
      "metadata": {
        "id": "hC_Stg5aE4Vh",
        "colab_type": "code",
        "outputId": "e68492bd-4a28-4fca-a33d-cb87f6b5829b",
        "colab": {
          "base_uri": "https://localhost:8080/",
          "height": 193
        }
      },
      "source": [
        "!pip3 install ColabTurtle  # j'installe le module colabTurtle"
      ],
      "execution_count": 0,
      "outputs": [
        {
          "output_type": "stream",
          "text": [
            "Collecting ColabTurtle\n",
            "  Downloading https://files.pythonhosted.org/packages/49/01/6da7091c2c6c917cce99c000b89acb6aa27b66ef6eafc0c0ccf59b98694f/ColabTurtle-2.0.0.tar.gz\n",
            "Building wheels for collected packages: ColabTurtle\n",
            "  Building wheel for ColabTurtle (setup.py) ... \u001b[?25l\u001b[?25hdone\n",
            "  Created wheel for ColabTurtle: filename=ColabTurtle-2.0.0-cp36-none-any.whl size=4033 sha256=892aa88f9da8cfd17d5c680a083da8489e4cf8d15295d7b5ad8357941b64e025\n",
            "  Stored in directory: /root/.cache/pip/wheels/a8/29/ec/ad346f0042ae467cc74f4378916348faf975b07890651dcae7\n",
            "Successfully built ColabTurtle\n",
            "Installing collected packages: ColabTurtle\n",
            "Successfully installed ColabTurtle-2.0.0\n"
          ],
          "name": "stdout"
        }
      ]
    },
    {
      "cell_type": "code",
      "metadata": {
        "id": "NOmRUYWoFLIg",
        "colab_type": "code",
        "cellView": "code",
        "outputId": "1bf2083c-6b03-4229-a153-440f04c4c492",
        "colab": {
          "base_uri": "https://localhost:8080/",
          "height": 521
        }
      },
      "source": [
        "#@title Titre par défaut\n",
        "angle = 95\n",
        "import ColabTurtle.Turtle as t\n",
        "t.initializeTurtle() \n",
        "t.speed(5)\n",
        "t.forward(15)"
      ],
      "execution_count": 0,
      "outputs": [
        {
          "output_type": "display_data",
          "data": {
            "text/html": [
              "\n",
              "      <svg width=\"800\" height=\"500\">\n",
              "        <rect width=\"100%\" height=\"100%\" fill=\"black\"/>\n",
              "        <line x1=\"400\" y1=\"250\" x2=\"400.0\" y2=\"235.0\" stroke-linecap=\"round\" style=\"stroke:white;stroke-width:4\"/>\n",
              "        \n",
              "      <g visibility=visible transform=\"rotate(180,400.0,235.0) translate(400.0, 235.0)\">\n",
              "        <circle stroke=\"white\" stroke-width=\"3\" fill=\"transparent\" r=\"12\" cx=\"0\" cy=\"0\"/>\n",
              "        <polygon points=\"0,19 3,16 -3,16\" style=\"fill:white;stroke:white;stroke-width:2\"/>\n",
              "      </g>\n",
              "    \n",
              "      </svg>\n",
              "    "
            ],
            "text/plain": [
              "<IPython.core.display.HTML object>"
            ]
          },
          "metadata": {
            "tags": []
          }
        }
      ]
    },
    {
      "cell_type": "code",
      "metadata": {
        "id": "T0ZcWFVuJZz0",
        "colab_type": "code",
        "outputId": "ad22e30b-75c5-44c8-e0aa-b274f264a6e0",
        "colab": {
          "base_uri": "https://localhost:8080/",
          "height": 167
        }
      },
      "source": [
        "dir(ColabTurtle)"
      ],
      "execution_count": 0,
      "outputs": [
        {
          "output_type": "error",
          "ename": "NameError",
          "evalue": "ignored",
          "traceback": [
            "\u001b[0;31m---------------------------------------------------------------------------\u001b[0m",
            "\u001b[0;31mNameError\u001b[0m                                 Traceback (most recent call last)",
            "\u001b[0;32m<ipython-input-13-d0ef9f586d8d>\u001b[0m in \u001b[0;36m<module>\u001b[0;34m()\u001b[0m\n\u001b[0;32m----> 1\u001b[0;31m \u001b[0mdir\u001b[0m\u001b[0;34m(\u001b[0m\u001b[0mColabTurtle\u001b[0m\u001b[0;34m)\u001b[0m\u001b[0;34m\u001b[0m\u001b[0;34m\u001b[0m\u001b[0m\n\u001b[0m",
            "\u001b[0;31mNameError\u001b[0m: name 'ColabTurtle' is not defined"
          ]
        }
      ]
    },
    {
      "cell_type": "code",
      "metadata": {
        "id": "HxDOxMPbKwdx",
        "colab_type": "code",
        "outputId": "903385b4-b086-4b0a-fceb-5667aa01339d",
        "colab": {
          "base_uri": "https://localhost:8080/",
          "height": 521
        }
      },
      "source": [
        "import ColabTurtle.Turtle as t\n",
        "\n",
        "def polygon(length, n):\n",
        "    for _ in range(n):\n",
        "        t.forward(length)\n",
        "        t.left(360 / n)\n",
        "\n",
        "t.initializeTurtle()\n",
        "\n",
        "polygon(60, 7)"
      ],
      "execution_count": 0,
      "outputs": [
        {
          "output_type": "display_data",
          "data": {
            "text/html": [
              "\n",
              "      <svg width=\"800\" height=\"500\">\n",
              "        <rect width=\"100%\" height=\"100%\" fill=\"black\"/>\n",
              "        <line x1=\"400\" y1=\"250\" x2=\"400.0\" y2=\"190.0\" stroke-linecap=\"round\" style=\"stroke:white;stroke-width:4\"/><line x1=\"400.0\" y1=\"190.0\" x2=\"353.0901110519182\" y2=\"152.590611888476\" stroke-linecap=\"round\" style=\"stroke:white;stroke-width:4\"/><line x1=\"353.0901110519182\" y1=\"152.590611888476\" x2=\"294.5944363210088\" y2=\"165.9418679258549\" stroke-linecap=\"round\" style=\"stroke:white;stroke-width:4\"/><line x1=\"294.5944363210088\" y1=\"165.9418679258549\" x2=\"268.56141197395533\" y2=\"220.00000000000006\" stroke-linecap=\"round\" style=\"stroke:white;stroke-width:4\"/><line x1=\"268.56141197395533\" y1=\"220.00000000000006\" x2=\"294.59443632100886\" y2=\"274.0581320741452\" stroke-linecap=\"round\" style=\"stroke:white;stroke-width:4\"/><line x1=\"294.59443632100886\" y1=\"274.0581320741452\" x2=\"353.09011105191826\" y2=\"287.40938811152404\" stroke-linecap=\"round\" style=\"stroke:white;stroke-width:4\"/><line x1=\"353.09011105191826\" y1=\"287.40938811152404\" x2=\"400.0\" y2=\"249.99999999999997\" stroke-linecap=\"round\" style=\"stroke:white;stroke-width:4\"/>\n",
              "        \n",
              "      <g visibility=visible transform=\"rotate(179.99999999999994,400.0,249.99999999999997) translate(400.0, 249.99999999999997)\">\n",
              "        <circle stroke=\"white\" stroke-width=\"3\" fill=\"transparent\" r=\"12\" cx=\"0\" cy=\"0\"/>\n",
              "        <polygon points=\"0,19 3,16 -3,16\" style=\"fill:white;stroke:white;stroke-width:2\"/>\n",
              "      </g>\n",
              "    \n",
              "      </svg>\n",
              "    "
            ],
            "text/plain": [
              "<IPython.core.display.HTML object>"
            ]
          },
          "metadata": {
            "tags": []
          }
        }
      ]
    },
    {
      "cell_type": "markdown",
      "metadata": {
        "id": "6KKim8HoFTKa",
        "colab_type": "text"
      },
      "source": [
        "ici on peut essayer de commander la fameuse toutue \n",
        "dont voila toutes les methodes :\n",
        "\n",
        "forward(units)\n",
        "\n",
        "backward(units)\n",
        "\n",
        "right(degrees)\n",
        "\n",
        "face(degrees)\n",
        "\n",
        "left(degrees)\n",
        "\n",
        "penup()\n",
        "\n",
        "pendown()\n",
        "\n",
        "speed(speed)\n",
        "\n",
        "setx(x)\n",
        "\n",
        "sety(y)\n",
        "\n",
        "getx()\n",
        "\n",
        "gety()\n",
        "\n",
        "goto(x, y)\n",
        "\n",
        "showturtle()\n",
        "\n",
        "hideturtle()\n",
        "\n",
        "bgcolor(color)\n",
        "\n",
        "color(color)\n",
        "\n",
        "width(width)\n"
      ]
    },
    {
      "cell_type": "markdown",
      "metadata": {
        "id": "ICRiD5aZ8avh",
        "colab_type": "text"
      },
      "source": [
        "# TIPS & TRICKS"
      ]
    },
    {
      "cell_type": "markdown",
      "metadata": {
        "id": "6Bl2HEvi8uzV",
        "colab_type": "text"
      },
      "source": [
        "# Open files from your local file system\n",
        "files.upload returns a dictionary of the files which were uploaded. The dictionary is keyed by the file name, the value is the data which was uploaded."
      ]
    },
    {
      "cell_type": "code",
      "metadata": {
        "id": "su34Wg-z8s4N",
        "colab_type": "code",
        "colab": {}
      },
      "source": [
        "from google.colab import files\n",
        "\n",
        "uploaded = files.upload()\n",
        "\n",
        "for fn in uploaded.keys():\n",
        "  print('User uploaded file \"{name}\" with length {length} bytes'.format(\n",
        "      name=fn, length=len(uploaded[fn])))"
      ],
      "execution_count": 0,
      "outputs": []
    },
    {
      "cell_type": "markdown",
      "metadata": {
        "id": "1IMN1XcZIuta",
        "colab_type": "text"
      },
      "source": [
        "dDans la vraie vie\n",
        "\n",
        "sous windows"
      ]
    },
    {
      "cell_type": "code",
      "metadata": {
        "id": "AXZIEzq5I3oG",
        "colab_type": "code",
        "colab": {}
      },
      "source": [
        "monfichier=open('f:\\\\fichier.txt')\n",
        "texte = monfichier.read()\n",
        "print(texte)"
      ],
      "execution_count": 0,
      "outputs": []
    },
    {
      "cell_type": "markdown",
      "metadata": {
        "id": "lXEtJd4zJVUN",
        "colab_type": "text"
      },
      "source": [
        "sous macos"
      ]
    },
    {
      "cell_type": "code",
      "metadata": {
        "id": "Jp_fd8_BJY2V",
        "colab_type": "code",
        "colab": {}
      },
      "source": [
        "monfichier=open('/user/toma/fichier.txt')\n"
      ],
      "execution_count": 0,
      "outputs": []
    },
    {
      "cell_type": "markdown",
      "metadata": {
        "id": "vYJ0Z_BxJ6Gz",
        "colab_type": "text"
      },
      "source": [
        "sous linux"
      ]
    },
    {
      "cell_type": "code",
      "metadata": {
        "id": "EBN226WdJ-me",
        "colab_type": "code",
        "colab": {}
      },
      "source": [
        "monfichier=open('/home/toma/fichier.txt')\n"
      ],
      "execution_count": 0,
      "outputs": []
    },
    {
      "cell_type": "markdown",
      "metadata": {
        "id": "hyC1AWOpLU0j",
        "colab_type": "text"
      },
      "source": [
        "```flow\n",
        "st=>start:  Debut\n",
        "e=>end: End\n",
        "umbo=>operation: umbo\n",
        "op2=>operation: lalala\n",
        "op3=>operation: trubilon\n",
        "cond=>condition: Yes or No?\n",
        "condi=>condition: Yes or No?\n",
        "st->umbo->op2->cond\n",
        "cond(yes)->condi\n",
        "\n",
        "cond(no)->op2\n",
        "condi(no,down)->e\n",
        "condi(yes)->op3\n",
        "op3(right)->umbo\n",
        "\n",
        "```"
      ]
    }
  ]
}
