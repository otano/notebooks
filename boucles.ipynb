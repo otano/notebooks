{
  "cells": [
    {
      "cell_type": "markdown",
      "metadata": {
        "id": "eJkUy-UmQiGm",
        "colab_type": "text"
      },
      "source": [
        "# Boucle for\n",
        "\n",
        "La première partie représente les conditions de la boucle ensuite 2 points\n",
        "\n",
        "on va a la ligne et on indente pour écrire la partie qui va être répété:\n",
        "\n",
        "![image.png](data:image/png;base64,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)\n",
        "\n",
        "Bien sur on peut imbriquer les boucles en faisant bien attention au indentation :\n",
        "par exemple la premiere boucle de la boucle jaune finira après que la boucle verte soit finie et on pourra commencer la deuxième boucle jaune qui bien sur intrégrera une boucle verte ;-)\n",
        "\n",
        "![image.png](data:image/png;base64,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)"
      ]
    },
    {
      "cell_type": "code",
      "metadata": {
        "id": "YQUh-_TiQhKe",
        "colab_type": "code",
        "colab": {
          "base_uri": "https://localhost:8080/",
          "height": 203
        },
        "outputId": "ea8d1989-ffd9-4373-ce38-1e0c869e8b2d"
      },
      "source": [
        "for i in range(10):\n",
        "  print (i ,'X', '235' , '=', i*235 )"
      ],
      "execution_count": 2,
      "outputs": [
        {
          "output_type": "stream",
          "text": [
            "0 X 235 = 0\n",
            "1 X 235 = 235\n",
            "2 X 235 = 470\n",
            "3 X 235 = 705\n",
            "4 X 235 = 940\n",
            "5 X 235 = 1175\n",
            "6 X 235 = 1410\n",
            "7 X 235 = 1645\n",
            "8 X 235 = 1880\n",
            "9 X 235 = 2115\n"
          ],
          "name": "stdout"
        }
      ]
    },
    {
      "cell_type": "code",
      "metadata": {
        "id": "9BuDW5M_SDgU",
        "colab_type": "code",
        "colab": {
          "base_uri": "https://localhost:8080/",
          "height": 166
        },
        "outputId": "f975ab54-9385-40c4-fe95-11b7d0f73df7"
      },
      "source": [
        "for i in range(1,57,7):\n",
        "  print (i ,'X', '23' , '=', i*23 )"
      ],
      "execution_count": 5,
      "outputs": [
        {
          "output_type": "stream",
          "text": [
            "1 X 23 = 23\n",
            "8 X 23 = 184\n",
            "15 X 23 = 345\n",
            "22 X 23 = 506\n",
            "29 X 23 = 667\n",
            "36 X 23 = 828\n",
            "43 X 23 = 989\n",
            "50 X 23 = 1150\n"
          ],
          "name": "stdout"
        }
      ]
    },
    {
      "cell_type": "code",
      "metadata": {
        "id": "b5jcXICLSs6K",
        "colab_type": "code",
        "colab": {
          "base_uri": "https://localhost:8080/",
          "height": 128
        },
        "outputId": "925457a8-1d45-4ba5-a3f0-26e0c8a716cc"
      },
      "source": [
        "for elt in [\"jac\",\"pol\",\"luc\"]:\n",
        "  print (\"selon\",elt,\"\\n\")"
      ],
      "execution_count": 8,
      "outputs": [
        {
          "output_type": "stream",
          "text": [
            "selon jac \n",
            "\n",
            "selon pol \n",
            "\n",
            "selon luc \n",
            "\n"
          ],
          "name": "stdout"
        }
      ]
    },
    {
      "cell_type": "markdown",
      "metadata": {
        "id": "1fg95vFoTbU2",
        "colab_type": "text"
      },
      "source": [
        "# boucle while\n",
        " "
      ]
    },
    {
      "cell_type": "code",
      "metadata": {
        "id": "O_XjWhz7ZdVS",
        "colab_type": "code",
        "colab": {
          "base_uri": "https://localhost:8080/",
          "height": 110
        },
        "outputId": "b14bc23e-c32a-47ca-ec4c-259a4d816fe4"
      },
      "source": [
        "x = 0\n",
        "y = 15\n",
        "while y-x>0 :\n",
        "   y=y-1\n",
        "   x+=2 # equivalent à x=x+2\n",
        "   print(x, y , sep='-')"
      ],
      "execution_count": 9,
      "outputs": [
        {
          "output_type": "stream",
          "text": [
            "2-14\n",
            "4-13\n",
            "6-12\n",
            "8-11\n",
            "10-10\n"
          ],
          "name": "stdout"
        }
      ]
    }
  ],
  "metadata": {
    "colab": {
      "name": "boucles.ipynb",
      "provenance": []
    },
    "kernelspec": {
      "name": "python3",
      "display_name": "Python 3"
    }
  },
  "nbformat": 4,
  "nbformat_minor": 0
}