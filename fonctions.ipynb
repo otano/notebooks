{
  "cells": [
    {
      "cell_type": "markdown",
      "metadata": {
        "id": "8jLdCozM8xFu",
        "colab_type": "text"
      },
      "source": [
        "# Fonction\n",
        "\n",
        "> C'est mettre un nom sur un bout de programme pour pouvoir l'appeler plus facilement \n",
        "une fonction peut comporter un paramètre  ou bien plusieurs\n",
        "\n",
        "```python\n",
        "def ma_fonction(paramètre):\n",
        "  corps de la fonction\n",
        "```\n",
        "\n"
      ]
    },
    {
      "cell_type": "code",
      "metadata": {
        "id": "wMq5eTIR8bjP",
        "colab_type": "code",
        "outputId": "7248a05c-3579-4e52-8a1e-c1d5ed131988",
        "colab": {
          "base_uri": "https://localhost:8080/",
          "height": 73
        }
      },
      "source": [
        "\n",
        "def ma_fonction_courtoise(interlocuteur):\n",
        "    print (\"Hey\", interlocuteur + '!')\n",
        "    print (interlocuteur + ',' ,\"chat va ?\")\n",
        "    \n",
        "def ma_fonction_inquisition():\n",
        "    nom = input(\"quel est ton nom: \")\n",
        "    ma_fonction_courtoise(nom)\n",
        "\n",
        "ma_fonction_inquisition()\n"
      ],
      "execution_count": 0,
      "outputs": [
        {
          "output_type": "stream",
          "text": [
            "quel est ton nom: tom\n",
            "Hey tom!\n",
            "tom, chat va ?\n"
          ],
          "name": "stdout"
        }
      ]
    },
    {
      "cell_type": "markdown",
      "metadata": {
        "id": "SBw1yyMMDdCL",
        "colab_type": "text"
      },
      "source": [
        "le typage est dynamique ça veut dire que\n",
        "le type de l'agument devient celui de celui qu'on a passé à la fonction\n"
      ]
    },
    {
      "cell_type": "code",
      "metadata": {
        "id": "GyXitCxdDyih",
        "colab_type": "code",
        "outputId": "06c56882-51fc-4a07-f082-0bc8d51b0407",
        "colab": {
          "base_uri": "https://localhost:8080/",
          "height": 73
        }
      },
      "source": [
        "def afficher_3fois(arg):\n",
        "  print(arg, arg, arg)\n",
        "\n",
        "afficher_3fois(5)\n",
        "afficher_3fois(\"fuck !\")\n",
        "afficher_3fois([2,5,7])"
      ],
      "execution_count": 0,
      "outputs": [
        {
          "output_type": "stream",
          "text": [
            "5 5 5\n",
            "fuck ! fuck ! fuck !\n",
            "[2, 5, 7] [2, 5, 7] [2, 5, 7]\n"
          ],
          "name": "stdout"
        }
      ]
    }
  ],
  "metadata": {
    "colab": {
      "name": "fonctions.ipynb",
      "provenance": [],
      "toc_visible": true
    },
    "kernelspec": {
      "name": "python3",
      "display_name": "Python 3"
    }
  },
  "nbformat": 4,
  "nbformat_minor": 0
}