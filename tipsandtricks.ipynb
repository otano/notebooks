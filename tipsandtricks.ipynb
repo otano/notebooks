{
  "nbformat": 4,
  "nbformat_minor": 0,
  "metadata": {
    "colab": {
      "name": "tipsandtricks.ipynb",
      "provenance": [],
      "toc_visible": true
    },
    "kernelspec": {
      "name": "python3",
      "display_name": "Python 3"
    }
  },
  "cells": [
    {
      "cell_type": "markdown",
      "metadata": {
        "id": "ICRiD5aZ8avh",
        "colab_type": "text"
      },
      "source": [
        "# TIPS & TRICKS"
      ]
    },
    {
      "cell_type": "markdown",
      "metadata": {
        "id": "6Bl2HEvi8uzV",
        "colab_type": "text"
      },
      "source": [
        "# Open files from your local file system\n",
        "files.upload returns a dictionary of the files which were uploaded. The dictionary is keyed by the file name, the value is the data which was uploaded."
      ]
    },
    {
      "cell_type": "code",
      "metadata": {
        "id": "su34Wg-z8s4N",
        "colab_type": "code",
        "colab": {}
      },
      "source": [
        "from google.colab import files\n",
        "\n",
        "uploaded = files.upload()\n",
        "\n",
        "for fn in uploaded.keys():\n",
        "  print('User uploaded file \"{name}\" with length {length} bytes'.format(\n",
        "      name=fn, length=len(uploaded[fn])))"
      ],
      "execution_count": 0,
      "outputs": []
    },
    {
      "cell_type": "markdown",
      "metadata": {
        "id": "1IMN1XcZIuta",
        "colab_type": "text"
      },
      "source": [
        "dDans la vraie vie\n",
        "\n",
        "sous windows"
      ]
    },
    {
      "cell_type": "code",
      "metadata": {
        "id": "AXZIEzq5I3oG",
        "colab_type": "code",
        "colab": {}
      },
      "source": [
        "monfichier=open('f:\\\\fichier.txt')\n",
        "texte = monfichier.read()\n",
        "print(texte)"
      ],
      "execution_count": 0,
      "outputs": []
    },
    {
      "cell_type": "markdown",
      "metadata": {
        "id": "lXEtJd4zJVUN",
        "colab_type": "text"
      },
      "source": [
        "sous macos"
      ]
    },
    {
      "cell_type": "code",
      "metadata": {
        "id": "Jp_fd8_BJY2V",
        "colab_type": "code",
        "colab": {}
      },
      "source": [
        "monfichier=open('/user/toma/fichier.txt')\n"
      ],
      "execution_count": 0,
      "outputs": []
    },
    {
      "cell_type": "markdown",
      "metadata": {
        "id": "vYJ0Z_BxJ6Gz",
        "colab_type": "text"
      },
      "source": [
        "sous linux"
      ]
    },
    {
      "cell_type": "code",
      "metadata": {
        "id": "EBN226WdJ-me",
        "colab_type": "code",
        "colab": {}
      },
      "source": [
        "monfichier=open('/home/toma/fichier.txt')\n"
      ],
      "execution_count": 0,
      "outputs": []
    }
  ]
}